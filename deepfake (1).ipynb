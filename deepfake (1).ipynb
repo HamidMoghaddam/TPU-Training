{
 "cells": [
  {
   "cell_type": "code",
   "execution_count": 1,
   "metadata": {},
   "outputs": [],
   "source": [
    "import tensorflow as tf\n",
    "import efficientnet.tfkeras as efn\n",
    "import re\n",
    "import numpy as np\n",
    "import random\n",
    "import ast\n",
    "from tensorflow.keras.applications.xception import Xception\n",
    "from tensorflow.keras.layers import (Activation, Dropout, Flatten, Dense, GlobalMaxPooling2D,\n",
    "                          BatchNormalization, Input, Conv2D, GlobalAveragePooling2D,concatenate,Concatenate,multiply, LocallyConnected2D, Lambda)\n",
    "# from tensorflow.keras.applications.resnet_v2 import ResNet101V2\n",
    "from tf_explain.callbacks.grad_cam import GradCAMCallback\n",
    "import tensorflow_addons as tfa\n",
    "from TPUDataLoader import DataLoader\n",
    "import cv2\n",
    "tf.random.set_seed(2020)"
   ]
  },
  {
   "cell_type": "code",
   "execution_count": 2,
   "metadata": {
    "scrolled": true
   },
   "outputs": [
    {
     "name": "stdout",
     "output_type": "stream",
     "text": [
      "INFO:tensorflow:Initializing the TPU system: smas255\n"
     ]
    },
    {
     "name": "stderr",
     "output_type": "stream",
     "text": [
      "INFO:tensorflow:Initializing the TPU system: smas255\n"
     ]
    },
    {
     "name": "stdout",
     "output_type": "stream",
     "text": [
      "INFO:tensorflow:Clearing out eager caches\n"
     ]
    },
    {
     "name": "stderr",
     "output_type": "stream",
     "text": [
      "INFO:tensorflow:Clearing out eager caches\n"
     ]
    },
    {
     "name": "stdout",
     "output_type": "stream",
     "text": [
      "INFO:tensorflow:Finished initializing TPU system.\n"
     ]
    },
    {
     "name": "stderr",
     "output_type": "stream",
     "text": [
      "INFO:tensorflow:Finished initializing TPU system.\n"
     ]
    },
    {
     "name": "stdout",
     "output_type": "stream",
     "text": [
      "INFO:tensorflow:Found TPU system:\n"
     ]
    },
    {
     "name": "stderr",
     "output_type": "stream",
     "text": [
      "INFO:tensorflow:Found TPU system:\n"
     ]
    },
    {
     "name": "stdout",
     "output_type": "stream",
     "text": [
      "INFO:tensorflow:*** Num TPU Cores: 8\n"
     ]
    },
    {
     "name": "stderr",
     "output_type": "stream",
     "text": [
      "INFO:tensorflow:*** Num TPU Cores: 8\n"
     ]
    },
    {
     "name": "stdout",
     "output_type": "stream",
     "text": [
      "INFO:tensorflow:*** Num TPU Workers: 1\n"
     ]
    },
    {
     "name": "stderr",
     "output_type": "stream",
     "text": [
      "INFO:tensorflow:*** Num TPU Workers: 1\n"
     ]
    },
    {
     "name": "stdout",
     "output_type": "stream",
     "text": [
      "INFO:tensorflow:*** Num TPU Cores Per Worker: 8\n"
     ]
    },
    {
     "name": "stderr",
     "output_type": "stream",
     "text": [
      "INFO:tensorflow:*** Num TPU Cores Per Worker: 8\n"
     ]
    },
    {
     "name": "stdout",
     "output_type": "stream",
     "text": [
      "INFO:tensorflow:*** Available Device: _DeviceAttributes(/job:localhost/replica:0/task:0/device:CPU:0, CPU, 0, 0)\n"
     ]
    },
    {
     "name": "stderr",
     "output_type": "stream",
     "text": [
      "INFO:tensorflow:*** Available Device: _DeviceAttributes(/job:localhost/replica:0/task:0/device:CPU:0, CPU, 0, 0)\n"
     ]
    },
    {
     "name": "stdout",
     "output_type": "stream",
     "text": [
      "INFO:tensorflow:*** Available Device: _DeviceAttributes(/job:localhost/replica:0/task:0/device:XLA_CPU:0, XLA_CPU, 0, 0)\n"
     ]
    },
    {
     "name": "stderr",
     "output_type": "stream",
     "text": [
      "INFO:tensorflow:*** Available Device: _DeviceAttributes(/job:localhost/replica:0/task:0/device:XLA_CPU:0, XLA_CPU, 0, 0)\n"
     ]
    },
    {
     "name": "stdout",
     "output_type": "stream",
     "text": [
      "INFO:tensorflow:*** Available Device: _DeviceAttributes(/job:worker/replica:0/task:0/device:CPU:0, CPU, 0, 0)\n"
     ]
    },
    {
     "name": "stderr",
     "output_type": "stream",
     "text": [
      "INFO:tensorflow:*** Available Device: _DeviceAttributes(/job:worker/replica:0/task:0/device:CPU:0, CPU, 0, 0)\n"
     ]
    },
    {
     "name": "stdout",
     "output_type": "stream",
     "text": [
      "INFO:tensorflow:*** Available Device: _DeviceAttributes(/job:worker/replica:0/task:0/device:TPU:0, TPU, 0, 0)\n"
     ]
    },
    {
     "name": "stderr",
     "output_type": "stream",
     "text": [
      "INFO:tensorflow:*** Available Device: _DeviceAttributes(/job:worker/replica:0/task:0/device:TPU:0, TPU, 0, 0)\n"
     ]
    },
    {
     "name": "stdout",
     "output_type": "stream",
     "text": [
      "INFO:tensorflow:*** Available Device: _DeviceAttributes(/job:worker/replica:0/task:0/device:TPU:1, TPU, 0, 0)\n"
     ]
    },
    {
     "name": "stderr",
     "output_type": "stream",
     "text": [
      "INFO:tensorflow:*** Available Device: _DeviceAttributes(/job:worker/replica:0/task:0/device:TPU:1, TPU, 0, 0)\n"
     ]
    },
    {
     "name": "stdout",
     "output_type": "stream",
     "text": [
      "INFO:tensorflow:*** Available Device: _DeviceAttributes(/job:worker/replica:0/task:0/device:TPU:2, TPU, 0, 0)\n"
     ]
    },
    {
     "name": "stderr",
     "output_type": "stream",
     "text": [
      "INFO:tensorflow:*** Available Device: _DeviceAttributes(/job:worker/replica:0/task:0/device:TPU:2, TPU, 0, 0)\n"
     ]
    },
    {
     "name": "stdout",
     "output_type": "stream",
     "text": [
      "INFO:tensorflow:*** Available Device: _DeviceAttributes(/job:worker/replica:0/task:0/device:TPU:3, TPU, 0, 0)\n"
     ]
    },
    {
     "name": "stderr",
     "output_type": "stream",
     "text": [
      "INFO:tensorflow:*** Available Device: _DeviceAttributes(/job:worker/replica:0/task:0/device:TPU:3, TPU, 0, 0)\n"
     ]
    },
    {
     "name": "stdout",
     "output_type": "stream",
     "text": [
      "INFO:tensorflow:*** Available Device: _DeviceAttributes(/job:worker/replica:0/task:0/device:TPU:4, TPU, 0, 0)\n"
     ]
    },
    {
     "name": "stderr",
     "output_type": "stream",
     "text": [
      "INFO:tensorflow:*** Available Device: _DeviceAttributes(/job:worker/replica:0/task:0/device:TPU:4, TPU, 0, 0)\n"
     ]
    },
    {
     "name": "stdout",
     "output_type": "stream",
     "text": [
      "INFO:tensorflow:*** Available Device: _DeviceAttributes(/job:worker/replica:0/task:0/device:TPU:5, TPU, 0, 0)\n"
     ]
    },
    {
     "name": "stderr",
     "output_type": "stream",
     "text": [
      "INFO:tensorflow:*** Available Device: _DeviceAttributes(/job:worker/replica:0/task:0/device:TPU:5, TPU, 0, 0)\n"
     ]
    },
    {
     "name": "stdout",
     "output_type": "stream",
     "text": [
      "INFO:tensorflow:*** Available Device: _DeviceAttributes(/job:worker/replica:0/task:0/device:TPU:6, TPU, 0, 0)\n"
     ]
    },
    {
     "name": "stderr",
     "output_type": "stream",
     "text": [
      "INFO:tensorflow:*** Available Device: _DeviceAttributes(/job:worker/replica:0/task:0/device:TPU:6, TPU, 0, 0)\n"
     ]
    },
    {
     "name": "stdout",
     "output_type": "stream",
     "text": [
      "INFO:tensorflow:*** Available Device: _DeviceAttributes(/job:worker/replica:0/task:0/device:TPU:7, TPU, 0, 0)\n"
     ]
    },
    {
     "name": "stderr",
     "output_type": "stream",
     "text": [
      "INFO:tensorflow:*** Available Device: _DeviceAttributes(/job:worker/replica:0/task:0/device:TPU:7, TPU, 0, 0)\n"
     ]
    },
    {
     "name": "stdout",
     "output_type": "stream",
     "text": [
      "INFO:tensorflow:*** Available Device: _DeviceAttributes(/job:worker/replica:0/task:0/device:TPU_SYSTEM:0, TPU_SYSTEM, 0, 0)\n"
     ]
    },
    {
     "name": "stderr",
     "output_type": "stream",
     "text": [
      "INFO:tensorflow:*** Available Device: _DeviceAttributes(/job:worker/replica:0/task:0/device:TPU_SYSTEM:0, TPU_SYSTEM, 0, 0)\n"
     ]
    },
    {
     "name": "stdout",
     "output_type": "stream",
     "text": [
      "INFO:tensorflow:*** Available Device: _DeviceAttributes(/job:worker/replica:0/task:0/device:XLA_CPU:0, XLA_CPU, 0, 0)\n"
     ]
    },
    {
     "name": "stderr",
     "output_type": "stream",
     "text": [
      "INFO:tensorflow:*** Available Device: _DeviceAttributes(/job:worker/replica:0/task:0/device:XLA_CPU:0, XLA_CPU, 0, 0)\n"
     ]
    }
   ],
   "source": [
    "# Create strategy from tpu\n",
    "tpu = tf.distribute.cluster_resolver.TPUClusterResolver(tpu='smas255')\n",
    "tf.config.experimental_connect_to_cluster(tpu)\n",
    "tf.tpu.experimental.initialize_tpu_system(tpu)\n",
    "strategy = tf.distribute.experimental.TPUStrategy(tpu)"
   ]
  },
  {
   "cell_type": "code",
   "execution_count": 9,
   "metadata": {},
   "outputs": [],
   "source": [
    "FLAGS ={}\n",
    "# Configuration\n",
    "FLAGS['FOLD']='0'\n",
    "FLAGS['W'] = 300\n",
    "FLAGS['H'] = 300\n",
    "FLAGS['EPOCHS'] = 60\n",
    "FLAGS['LR'] = 0.00005\n",
    "FLAGS['WEIGHT_DECAY']=1e-4\n",
    "FLAGS['BATCH_SIZE'] = 256 * strategy.num_replicas_in_sync\n",
    "FLAGS['VAL_BATCH_SIZE'] = 128\n",
    "FLAGS['GCS_PATH'] = 'gs://deepfake_images/TFRecords/ratio1/landmark/'\n",
    "FLAGS['GCS_LOGS'] = 'gs://deepfake_images/trainingLogs/'\n",
    "FLAGS['TRAINING_FILENAMES'] = tf.io.gfile.glob(FLAGS['GCS_PATH'] + 'fold{}/train/*.tfrec'.format(FLAGS['FOLD']))\n",
    "FLAGS['VALIDATION_FILENAMES'] = tf.io.gfile.glob(FLAGS['GCS_PATH'] + 'fold{}/val/*.tfrec'.format(FLAGS['FOLD']))\n",
    "FLAGS['TEST_FILENAMES'] = tf.io.gfile.glob(FLAGS['GCS_PATH'] + 'test/*.tfrec')\n",
    "\n",
    "random.shuffle(FLAGS['TRAINING_FILENAMES'])\n"
   ]
  },
  {
   "cell_type": "code",
   "execution_count": 10,
   "metadata": {},
   "outputs": [],
   "source": [
    "dataLoader = DataLoader(FLAGS)"
   ]
  },
  {
   "cell_type": "code",
   "execution_count": 11,
   "metadata": {},
   "outputs": [],
   "source": [
    "# img_list = []\n",
    "# lbl_list = []\n",
    "# for img,lbl in dataLoader.get_gradcam_dataset():\n",
    "#     img_list = img.numpy()\n",
    "#     lbl_list = lbl.numpy()\n",
    "#     break\n",
    "# np.save('./data/img.npy',img_list)\n",
    "# np.save('./data/lbl.npy',lbl_list)"
   ]
  },
  {
   "cell_type": "code",
   "execution_count": 12,
   "metadata": {},
   "outputs": [],
   "source": [
    "# img_list = np.load('./data/img.npy')\n",
    "# lbl_list = np.load('./data/lbl.npy')"
   ]
  },
  {
   "cell_type": "code",
   "execution_count": 13,
   "metadata": {},
   "outputs": [],
   "source": [
    "def efficientAttention():\n",
    "    in_lay = Input(shape=(FLAGS['H'],FLAGS['W'],3))\n",
    "    base_model = efn.EfficientNetB3(\n",
    "        input_shape=( FLAGS['H'],FLAGS['W'], 3),\n",
    "        weights='noisy-student',\n",
    "        include_top=False\n",
    "    )\n",
    "    pt_depth = base_model.get_output_shape_at(0)[-1]\n",
    "    pt_features = base_model(in_lay)\n",
    "    bn_features = BatchNormalization()(pt_features)\n",
    "    # here we do an attention mechanism to turn pixels in the GAP on an off\n",
    "    attn_layer = Conv2D(64, kernel_size = (1,1), padding = 'same', activation = 'relu')(Dropout(0.5)(bn_features))\n",
    "    attn_layer = Conv2D(16, kernel_size = (1,1), padding = 'same', activation = 'relu')(attn_layer)\n",
    "    attn_layer = Conv2D(8, kernel_size = (1,1), padding = 'same', activation = 'relu')(attn_layer)\n",
    "    attn_layer = Conv2D(1, \n",
    "                        kernel_size = (1,1), \n",
    "                        padding = 'valid', \n",
    "                        activation = 'sigmoid')(attn_layer)\n",
    "    # fan it out to all of the channels\n",
    "    up_c2_w = np.ones((1, 1, 1, pt_depth))\n",
    "    up_c2 = Conv2D(pt_depth, kernel_size = (1,1), padding = 'same', \n",
    "                   activation = 'linear', use_bias = False, weights = [up_c2_w])\n",
    "    up_c2.trainable = False\n",
    "    attn_layer = up_c2(attn_layer)\n",
    "\n",
    "    mask_features = multiply([attn_layer, bn_features])\n",
    "    gap_features = GlobalAveragePooling2D()(mask_features)\n",
    "    gap_mask = GlobalAveragePooling2D()(attn_layer)\n",
    "    # to account for missing values from the attention model\n",
    "    gap = Lambda(lambda x: x[0]/x[1], name = 'RescaleGAP')([gap_features, gap_mask])\n",
    "    gap_dr = Dropout(0.25)(gap)\n",
    "    dr_steps = Dropout(0.25)(Dense(128, activation = 'relu')(gap_dr))\n",
    "    out_layer = Dense(1, activation = 'sigmoid')(dr_steps)\n",
    "    model = tf.keras.Model(inputs = [in_lay], outputs = [out_layer])\n",
    "    return model"
   ]
  },
  {
   "cell_type": "code",
   "execution_count": 14,
   "metadata": {},
   "outputs": [],
   "source": [
    "def efficientModel(weights_path=None):\n",
    "    enet = efn.EfficientNetB0(\n",
    "        input_shape=( FLAGS['H'],FLAGS['W'], 3),\n",
    "        weights='noisy-student',\n",
    "        include_top=False,\n",
    "        pooling = 'avg'\n",
    "    )\n",
    "    #output = tf.keras.layers.GlobalAveragePooling2D()(enet.output)\n",
    "    #output = tf.keras.layers.Dropout(0.2)(enet.output)\n",
    "    output = tf.keras.layers.Dense(1, activation='sigmoid')(enet.output)\n",
    "    model = tf.keras.Model(inputs=enet.input, outputs=output)\n",
    "    if weights_path!=None:\n",
    "        model.load_weights(weights_path)\n",
    "    return model"
   ]
  },
  {
   "cell_type": "code",
   "execution_count": 15,
   "metadata": {},
   "outputs": [],
   "source": [
    "def resnet():\n",
    "    res = Xception(weights='imagenet', include_top=False)\n",
    "   \n",
    "    output = tf.keras.layers.GlobalAveragePooling2D()(res.output)\n",
    "    #output = tf.keras.layers.Dropout(0.2)(output)\n",
    "    output = tf.keras.layers.Dense(1, activation='sigmoid')(output)\n",
    "    model = tf.keras.Model(inputs=res.input, outputs=output)\n",
    "    return model"
   ]
  },
  {
   "cell_type": "code",
   "execution_count": 16,
   "metadata": {
    "scrolled": true
   },
   "outputs": [],
   "source": [
    "with strategy.scope():\n",
    "    model = efficientAttention()"
   ]
  },
  {
   "cell_type": "markdown",
   "metadata": {},
   "source": [
    "## Warm up"
   ]
  },
  {
   "cell_type": "code",
   "execution_count": 17,
   "metadata": {},
   "outputs": [
    {
     "name": "stdout",
     "output_type": "stream",
     "text": [
      "Dataset: 348162 training images, 81958 validation images, 170 Steps\n"
     ]
    }
   ],
   "source": [
    "FLAGS['NUM_TRAINING_IMAGES'] = dataLoader.count_data_items(FLAGS['TRAINING_FILENAMES'])\n",
    "FLAGS['NUM_VALIDATION_IMAGES'] = dataLoader.count_data_items(FLAGS['VALIDATION_FILENAMES'])\n",
    "FLAGS['STEPS_PER_EPOCH'] = FLAGS['NUM_TRAINING_IMAGES'] // FLAGS['BATCH_SIZE']\n",
    "FLAGS['VALIDATION_STEPS'] = FLAGS['NUM_VALIDATION_IMAGES'] // FLAGS['VAL_BATCH_SIZE']\n",
    "print('Dataset: {} training images, {} validation images, {} Steps'.format(\n",
    "    FLAGS['NUM_TRAINING_IMAGES'], FLAGS['NUM_VALIDATION_IMAGES'],FLAGS['STEPS_PER_EPOCH']))"
   ]
  },
  {
   "cell_type": "code",
   "execution_count": 18,
   "metadata": {},
   "outputs": [
    {
     "name": "stdout",
     "output_type": "stream",
     "text": [
      "Train for 170 steps\n",
      "170/170 [==============================] - 1460s 9s/step - loss: 0.6615 - accuracy: 0.5864\n"
     ]
    },
    {
     "data": {
      "text/plain": [
       "<tensorflow.python.keras.callbacks.History at 0x7f1f0420f240>"
      ]
     },
     "execution_count": 18,
     "metadata": {},
     "output_type": "execute_result"
    }
   ],
   "source": [
    "# warm up model\n",
    "for layer in model.layers:\n",
    "    layer.trainable = False\n",
    "\n",
    "for i in range(-15,0):\n",
    "    model.layers[i].trainable = True\n",
    "model.compile(\n",
    "        optimizer=tf.keras.optimizers.Adam(),\n",
    "        #loss=macro_double_soft_f1,\n",
    "        #optimizer=tf.keras.optimizers.SGD(learning_rate= FLAGS['LR'],momentum=0.9,decay=FLAGS['WEIGHT_DECAY']),\n",
    "        loss='binary_crossentropy',\n",
    "        metrics=['accuracy']\n",
    "    )\n",
    "model.fit(\n",
    "    dataLoader.get_training_dataset(), \n",
    "    steps_per_epoch=FLAGS['STEPS_PER_EPOCH'],\n",
    "    epochs=1)"
   ]
  },
  {
   "cell_type": "markdown",
   "metadata": {},
   "source": [
    "## Train Model"
   ]
  },
  {
   "cell_type": "code",
   "execution_count": null,
   "metadata": {},
   "outputs": [
    {
     "name": "stdout",
     "output_type": "stream",
     "text": [
      "Train for 170 steps\n",
      "Epoch 1/60\n",
      "WARNING:tensorflow:From /home/mashhs/anaconda3/envs/img/lib/python3.6/site-packages/tensorflow_core/python/ops/resource_variable_ops.py:1786: calling BaseResourceVariable.__init__ (from tensorflow.python.ops.resource_variable_ops) with constraint is deprecated and will be removed in a future version.\n",
      "Instructions for updating:\n",
      "If using Keras pass *_constraint arguments to layers.\n"
     ]
    },
    {
     "name": "stderr",
     "output_type": "stream",
     "text": [
      "WARNING:tensorflow:From /home/mashhs/anaconda3/envs/img/lib/python3.6/site-packages/tensorflow_core/python/ops/resource_variable_ops.py:1786: calling BaseResourceVariable.__init__ (from tensorflow.python.ops.resource_variable_ops) with constraint is deprecated and will be removed in a future version.\n",
      "Instructions for updating:\n",
      "If using Keras pass *_constraint arguments to layers.\n"
     ]
    },
    {
     "name": "stdout",
     "output_type": "stream",
     "text": [
      "169/170 [============================>.] - ETA: 8s - loss: 0.6854 - accuracy: 0.5521 \n",
      "Epoch 00001: val_loss improved from inf to 0.65890, saving model to gs://hamid_kaggles/model_checkpoints/\n",
      "170/170 [==============================] - 1890s 11s/step - loss: 0.6853 - accuracy: 0.5523 - val_loss: 0.6589 - val_accuracy: 0.6225\n",
      "Epoch 2/60\n",
      "169/170 [============================>.] - ETA: 4s - loss: 0.6546 - accuracy: 0.6012\n",
      "Epoch 00002: val_loss improved from 0.65890 to 0.59952, saving model to gs://hamid_kaggles/model_checkpoints/\n",
      "170/170 [==============================] - 753s 4s/step - loss: 0.6544 - accuracy: 0.6015 - val_loss: 0.5995 - val_accuracy: 0.6633\n",
      "Epoch 3/60\n",
      "169/170 [============================>.] - ETA: 5s - loss: 0.6121 - accuracy: 0.6472 \n",
      "Epoch 00003: val_loss improved from 0.59952 to 0.53821, saving model to gs://hamid_kaggles/model_checkpoints/\n",
      "170/170 [==============================] - 946s 6s/step - loss: 0.6120 - accuracy: 0.6474 - val_loss: 0.5382 - val_accuracy: 0.7096\n",
      "Epoch 4/60\n",
      "169/170 [============================>.] - ETA: 4s - loss: 0.5640 - accuracy: 0.6916\n",
      "Epoch 00004: val_loss improved from 0.53821 to 0.48612, saving model to gs://hamid_kaggles/model_checkpoints/\n",
      "170/170 [==============================] - 909s 5s/step - loss: 0.5639 - accuracy: 0.6918 - val_loss: 0.4861 - val_accuracy: 0.7513\n",
      "Epoch 5/60\n",
      "169/170 [============================>.] - ETA: 5s - loss: 0.5179 - accuracy: 0.7265 \n",
      "Epoch 00005: val_loss improved from 0.48612 to 0.45340, saving model to gs://hamid_kaggles/model_checkpoints/\n",
      "170/170 [==============================] - 943s 6s/step - loss: 0.5177 - accuracy: 0.7267 - val_loss: 0.4534 - val_accuracy: 0.7804\n",
      "Epoch 6/60\n",
      "169/170 [============================>.] - ETA: 4s - loss: 0.4804 - accuracy: 0.7542\n",
      "Epoch 00006: val_loss improved from 0.45340 to 0.41247, saving model to gs://hamid_kaggles/model_checkpoints/\n",
      "170/170 [==============================] - 909s 5s/step - loss: 0.4804 - accuracy: 0.7540 - val_loss: 0.4125 - val_accuracy: 0.8050\n",
      "Epoch 7/60\n",
      "169/170 [============================>.] - ETA: 5s - loss: 0.4476 - accuracy: 0.7735 \n",
      "Epoch 00007: val_loss improved from 0.41247 to 0.38410, saving model to gs://hamid_kaggles/model_checkpoints/\n",
      "170/170 [==============================] - 956s 6s/step - loss: 0.4476 - accuracy: 0.7734 - val_loss: 0.3841 - val_accuracy: 0.8184\n",
      "Epoch 8/60\n",
      "169/170 [============================>.] - ETA: 4s - loss: 0.4208 - accuracy: 0.7909\n",
      "Epoch 00008: val_loss improved from 0.38410 to 0.36632, saving model to gs://hamid_kaggles/model_checkpoints/\n",
      "170/170 [==============================] - 912s 5s/step - loss: 0.4208 - accuracy: 0.7907 - val_loss: 0.3663 - val_accuracy: 0.8305\n",
      "Epoch 9/60\n",
      "169/170 [============================>.] - ETA: 4s - loss: 0.3981 - accuracy: 0.8053\n",
      "Epoch 00009: val_loss improved from 0.36632 to 0.34922, saving model to gs://hamid_kaggles/model_checkpoints/\n",
      "170/170 [==============================] - 918s 5s/step - loss: 0.3982 - accuracy: 0.8053 - val_loss: 0.3492 - val_accuracy: 0.8386\n",
      "Epoch 10/60\n",
      "169/170 [============================>.] - ETA: 5s - loss: 0.3775 - accuracy: 0.8188 \n",
      "Epoch 00010: val_loss improved from 0.34922 to 0.33780, saving model to gs://hamid_kaggles/model_checkpoints/\n",
      "170/170 [==============================] - 929s 5s/step - loss: 0.3775 - accuracy: 0.8187 - val_loss: 0.3378 - val_accuracy: 0.8496\n",
      "Epoch 11/60\n",
      "169/170 [============================>.] - ETA: 5s - loss: 0.3584 - accuracy: 0.8280 \n",
      "Epoch 00011: val_loss improved from 0.33780 to 0.32089, saving model to gs://hamid_kaggles/model_checkpoints/\n",
      "170/170 [==============================] - 917s 5s/step - loss: 0.3585 - accuracy: 0.8280 - val_loss: 0.3209 - val_accuracy: 0.8571\n",
      "Epoch 12/60\n",
      " 92/170 [===============>..............] - ETA: 6:07 - loss: 0.3442 - accuracy: 0.8350"
     ]
    }
   ],
   "source": [
    "for layer in model.layers:\n",
    "    layer.trainable = True\n",
    "radam = tfa.optimizers.RectifiedAdam(lr=FLAGS['LR'])\n",
    "opt = tfa.optimizers.Lookahead(radam, sync_period=6, slow_step_size=0.5)\n",
    " \n",
    "model.compile(\n",
    "        optimizer=opt,#tf.keras.optimizers.Adam(lr=FLAGS['LR'], clipnorm=1.),\n",
    "        loss='binary_crossentropy',\n",
    "        metrics=['accuracy']\n",
    "    )\n",
    "#lr_schedule = OneCycleScheduler(FLAGS['LR'], FLAGS['STEPS_PER_EPOCH'])\n",
    "lr_schedule = tf.keras.callbacks.ReduceLROnPlateau(monitor='val_loss', factor=0.25, patience=2, \n",
    "                                   verbose=1, mode='auto', min_delta=0.0001)\n",
    "#tensorboard_callback = tf.keras.callbacks.TensorBoard(log_dir=FLAGS['GCS_LOGS'], update_freq=10)\n",
    "# gradcam_callback = GradCAMCallback(\n",
    "#         validation_data=(img_list,lbl_list),\n",
    "#         layer_name=\"top_conv\",\n",
    "#         class_index=0,\n",
    "#         output_dir=FLAGS['GCS_LOGS']\n",
    "#     )\n",
    "#lr_schedule = OneCycleScheduler(FLAGS['LR'], FLAGS['STEPS_PER_EPOCH'])\n",
    "#lr_schedule = tf.keras.callbacks.LearningRateScheduler(lrfn, verbose=1)\n",
    "cp_callback = tf.keras.callbacks.ModelCheckpoint(filepath='gs://hamid_kaggles/model_checkpoints/',\n",
    "                                                 monitor='val_loss',\n",
    "                                                 verbose=1,\n",
    "                                                 save_best_only=True,\n",
    "                                                 save_weights_only=True\n",
    "                                                 )\n",
    "history = model.fit(\n",
    "    dataLoader.get_training_dataset(), \n",
    "    steps_per_epoch=FLAGS['STEPS_PER_EPOCH'],\n",
    "    epochs=FLAGS['EPOCHS'], \n",
    "    callbacks=[lr_schedule,cp_callback],\n",
    "    validation_data=dataLoader.get_validation_dataset())"
   ]
  },
  {
   "cell_type": "code",
   "execution_count": 14,
   "metadata": {},
   "outputs": [
    {
     "data": {
      "image/png": "[encoded data removed]",
      "text/plain": [
       "<Figure size 432x288 with 1 Axes>"
      ]
     },
     "metadata": {
      "needs_background": "light"
     },
     "output_type": "display_data"
    },
    {
     "data": {
      "image/png": "[encoded data removed]",
      "text/plain": [
       "<Figure size 432x288 with 1 Axes>"
      ]
     },
     "metadata": {
      "needs_background": "light"
     },
     "output_type": "display_data"
    }
   ],
   "source": [
    "import matplotlib.pyplot as plt\n",
    "# Plot training & validation accuracy values\n",
    "plt.plot(history.history['accuracy'])\n",
    "plt.plot(history.history['val_accuracy'])\n",
    "plt.title('Model accuracy')\n",
    "plt.ylabel('Accuracy')\n",
    "plt.xlabel('Epoch')\n",
    "plt.legend(['Train', 'Test'], loc='upper left')\n",
    "plt.show()\n",
    "\n",
    "# Plot training & validation loss values\n",
    "plt.plot(history.history['loss'])\n",
    "plt.plot(history.history['val_loss'])\n",
    "plt.title('Model loss')\n",
    "plt.ylabel('Loss')\n",
    "plt.xlabel('Epoch')\n",
    "plt.legend(['Train', 'Test'], loc='upper left')\n",
    "plt.show()"
   ]
  },
  {
   "cell_type": "code",
   "execution_count": 15,
   "metadata": {},
   "outputs": [],
   "source": [
    "model.save_weights('./b1.h5')"
   ]
  },
  {
   "cell_type": "markdown",
   "metadata": {},
   "source": [
    "## Test Model"
   ]
  },
  {
   "cell_type": "code",
   "execution_count": null,
   "metadata": {},
   "outputs": [],
   "source": [
    "with strategy.scope():\n",
    "    model = efficientModel()\n",
    "    model.load_weights('gs://hamid_kaggles/model_checkpoints/')\n",
    "    model.compile(\n",
    "        optimizer=tf.keras.optimizers.Adam(lr=FLAGS['LR'], clipnorm=1.),\n",
    "        loss='binary_crossentropy',\n",
    "        metrics=['accuracy']\n",
    "    )"
   ]
  },
  {
   "cell_type": "code",
   "execution_count": 16,
   "metadata": {},
   "outputs": [],
   "source": [
    "FLAGS['NUM_TEST_IMAGES'] = dataLoader.count_data_items(FLAGS['TEST_FILENAMES'])\n",
    "\n",
    "FLAGS['TEST_STEPS_PER_EPOCH'] = FLAGS['NUM_TEST_IMAGES'] // FLAGS['BATCH_SIZE']\n"
   ]
  },
  {
   "cell_type": "code",
   "execution_count": 17,
   "metadata": {},
   "outputs": [
    {
     "name": "stdout",
     "output_type": "stream",
     "text": [
      "7/7 [==============================] - 10s 1s/step - loss: 0.4663 - accuracy: 0.9107\n"
     ]
    }
   ],
   "source": [
    "results = model.evaluate(dataLoader.get_test_dataset(), \n",
    "    steps=FLAGS['TEST_STEPS_PER_EPOCH'],)"
   ]
  },
  {
   "cell_type": "code",
   "execution_count": 12,
   "metadata": {},
   "outputs": [
    {
     "name": "stdout",
     "output_type": "stream",
     "text": [
      "--2020-03-08 02:48:41--  https://tpu.googleapis.com/v1/projects/deepfake-267708/locations/europe-west4-a/nodes/tpu-32?alt=json\n",
      "Resolving tpu.googleapis.com (tpu.googleapis.com)... 108.177.119.95, 2a00:1450:4013:c04::5f\n",
      "Connecting to tpu.googleapis.com (tpu.googleapis.com)|108.177.119.95|:443... connected.\n",
      "HTTP request sent, awaiting response... 403 Forbidden\n",
      "2020-03-08 02:48:41 ERROR 403: Forbidden.\n",
      "\n"
     ]
    }
   ],
   "source": [
    "!wget https://tpu.googleapis.com/v1/projects/deepfake-267708/locations/europe-west4-a/nodes/tpu-32?alt=json"
   ]
  },
  {
   "cell_type": "code",
   "execution_count": 14,
   "metadata": {},
   "outputs": [
    {
     "name": "stdout",
     "output_type": "stream",
     "text": [
      "2020-03-17 00:55:59.249643: W tensorflow/stream_executor/platform/default/dso_loader.cc:55] Could not load dynamic library 'libnvinfer.so.6'; dlerror: libnvinfer.so.6: cannot open shared object file: No such file or directory\n",
      "2020-03-17 00:55:59.249754: W tensorflow/stream_executor/platform/default/dso_loader.cc:55] Could not load dynamic library 'libnvinfer_plugin.so.6'; dlerror: libnvinfer_plugin.so.6: cannot open shared object file: No such file or directory\n",
      "2020-03-17 00:55:59.249779: W tensorflow/compiler/tf2tensorrt/utils/py_utils.cc:30] Cannot dlopen some TensorRT libraries. If you would like to use Nvidia GPU with TensorRT, please make sure the missing libraries mentioned above are installed properly.\n",
      "2020-03-17 00:56:00.731180: W tensorflow/stream_executor/platform/default/dso_loader.cc:55] Could not load dynamic library 'libcuda.so.1'; dlerror: libcuda.so.1: cannot open shared object file: No such file or directory\n",
      "2020-03-17 00:56:00.731232: E tensorflow/stream_executor/cuda/cuda_driver.cc:351] failed call to cuInit: UNKNOWN ERROR (303)\n",
      "2020-03-17 00:56:00.731301: I tensorflow/stream_executor/cuda/cuda_diagnostics.cc:156] kernel driver does not appear to be running on this host (smas255): /proc/driver/nvidia/version does not exist\n",
      "2020-03-17 00:56:00.946925: I tensorflow/core/platform/cpu_feature_guard.cc:142] Your CPU supports instructions that this TensorFlow binary was not compiled to use: AVX2 AVX512F FMA\n",
      "2020-03-17 00:56:00.954481: I tensorflow/core/platform/profile_utils/cpu_utils.cc:94] CPU Frequency: 2000129999 Hz\n",
      "2020-03-17 00:56:00.954823: I tensorflow/compiler/xla/service/service.cc:168] XLA service 0x560ff777d780 initialized for platform Host (this does not guarantee that XLA will be used). Devices:\n",
      "2020-03-17 00:56:00.954860: I tensorflow/compiler/xla/service/service.cc:176]   StreamExecutor device (0): Host, Default Version\n",
      "2020-03-17 00:56:00.961828: I tensorflow/core/distributed_runtime/rpc/grpc_channel.cc:300] Initialize GrpcChannelCache for job worker -> {0 -> 10.151.73.221:8470, 1 -> 10.151.73.218:8470, 2 -> 10.151.73.220:8470, 3 -> 10.151.73.219:8470}\n",
      "2020-03-17 00:56:00.961876: I tensorflow/core/distributed_runtime/rpc/grpc_channel.cc:300] Initialize GrpcChannelCache for job localhost -> {0 -> localhost:34255}\n",
      "2020-03-17 00:56:00.991569: I tensorflow/core/distributed_runtime/rpc/grpc_channel.cc:300] Initialize GrpcChannelCache for job worker -> {0 -> 10.151.73.221:8470, 1 -> 10.151.73.218:8470, 2 -> 10.151.73.220:8470, 3 -> 10.151.73.219:8470}\n",
      "2020-03-17 00:56:00.991648: I tensorflow/core/distributed_runtime/rpc/grpc_channel.cc:300] Initialize GrpcChannelCache for job localhost -> {0 -> localhost:34255}\n",
      "2020-03-17 00:56:00.993041: I tensorflow/core/distributed_runtime/rpc/grpc_server_lib.cc:390] Started server with target: grpc://localhost:34255\n",
      "Dataset: 348162 training images, 81958 validation images, 85 Steps\n",
      "^C\n",
      "Traceback (most recent call last):\n",
      "  File \"deepfake_training.py\", line 129, in <module>\n",
      "    hist = training()\n",
      "  File \"deepfake_training.py\", line 53, in training\n",
      "    model = efficientAttention()\n",
      "  File \"deepfake_training.py\", line 21, in efficientAttention\n",
      "    include_top=False\n",
      "  File \"/home/mashhs/anaconda3/envs/img/lib/python3.6/site-packages/efficientnet/__init__.py\", line 57, in wrapper\n",
      "    return func(*args, **kwargs)\n",
      "  File \"/home/mashhs/anaconda3/envs/img/lib/python3.6/site-packages/efficientnet/model.py\", line 530, in EfficientNetB3\n",
      "    **kwargs\n",
      "  File \"/home/mashhs/anaconda3/envs/img/lib/python3.6/site-packages/efficientnet/model.py\", line 372, in EfficientNet\n",
      "    prefix='block{}a_'.format(idx + 1))\n",
      "  File \"/home/mashhs/anaconda3/envs/img/lib/python3.6/site-packages/efficientnet/model.py\", line 235, in mb_conv_block\n",
      "    x = layers.BatchNormalization(axis=bn_axis, name=prefix + 'project_bn')(x)\n",
      "  File \"/home/mashhs/anaconda3/envs/img/lib/python3.6/site-packages/tensorflow_core/python/keras/engine/base_layer.py\", line 773, in __call__\n",
      "    outputs = call_fn(cast_inputs, *args, **kwargs)\n",
      "  File \"/home/mashhs/anaconda3/envs/img/lib/python3.6/site-packages/tensorflow_core/python/keras/layers/normalization.py\", line 695, in call\n",
      "    outputs = self._fused_batch_norm(inputs, training=training)\n",
      "  File \"/home/mashhs/anaconda3/envs/img/lib/python3.6/site-packages/tensorflow_core/python/keras/layers/normalization.py\", line 553, in _fused_batch_norm\n",
      "    training, _fused_batch_norm_training, _fused_batch_norm_inference)\n",
      "  File \"/home/mashhs/anaconda3/envs/img/lib/python3.6/site-packages/tensorflow_core/python/keras/utils/tf_utils.py\", line 59, in smart_cond\n",
      "    pred, true_fn=true_fn, false_fn=false_fn, name=name)\n",
      "  File \"/home/mashhs/anaconda3/envs/img/lib/python3.6/site-packages/tensorflow_core/python/framework/smart_cond.py\", line 59, in smart_cond\n",
      "    name=name)\n",
      "  File \"/home/mashhs/anaconda3/envs/img/lib/python3.6/site-packages/tensorflow_core/python/util/deprecation.py\", line 507, in new_func\n",
      "    return func(*args, **kwargs)\n",
      "  File \"/home/mashhs/anaconda3/envs/img/lib/python3.6/site-packages/tensorflow_core/python/ops/control_flow_ops.py\", line 1174, in cond\n",
      "    return cond_v2.cond_v2(pred, true_fn, false_fn, name)\n",
      "  File \"/home/mashhs/anaconda3/envs/img/lib/python3.6/site-packages/tensorflow_core/python/ops/cond_v2.py\", line 100, in cond_v2\n",
      "    name=scope)\n",
      "  File \"/home/mashhs/anaconda3/envs/img/lib/python3.6/site-packages/tensorflow_core/python/ops/cond_v2.py\", line 270, in _build_cond\n",
      "    util.create_new_tf_function(false_graph),\n",
      "  File \"/home/mashhs/anaconda3/envs/img/lib/python3.6/site-packages/tensorflow_core/python/ops/control_flow_util_v2.py\", line 63, in create_new_tf_function\n",
      "    func_graph.name, func_graph, func_graph.inputs, func_graph.outputs, {})\n",
      "  File \"/home/mashhs/anaconda3/envs/img/lib/python3.6/site-packages/tensorflow_core/python/eager/function.py\", line 466, in __init__\n",
      "    function_def.ParseFromString(compat.as_bytes(proto_data))\n",
      "KeyboardInterrupt\n"
     ]
    }
   ],
   "source": [
    "!python deepfake_training.py"
   ]
  },
  {
   "cell_type": "code",
   "execution_count": null,
   "metadata": {},
   "outputs": [],
   "source": []
  },
  {
   "cell_type": "code",
   "execution_count": 14,
   "metadata": {
    "jupyter": {
     "source_hidden": true
    }
   },
   "outputs": [],
   "source": [
    "import numpy as np\n",
    "import matplotlib.pyplot as plt\n",
    "import logging\n",
    "\n",
    "logging.getLogger('tensorflow').setLevel(logging.ERROR)\n",
    "\n",
    "from tensorflow.keras.callbacks import Callback\n",
    "\n",
    "class CosineAnnealer:\n",
    "    \n",
    "    def __init__(self, start, end, steps):\n",
    "        self.start = start\n",
    "        self.end = end\n",
    "        self.steps = steps\n",
    "        self.n = 0\n",
    "        \n",
    "    def step(self):\n",
    "        self.n += 1\n",
    "        cos = np.cos(np.pi * (self.n / self.steps)) + 1\n",
    "        return self.end + (self.start - self.end) / 2. * cos\n",
    "\n",
    "\n",
    "class OneCycleScheduler(Callback):\n",
    "\n",
    "\n",
    "    def __init__(self, lr_max, steps, mom_min=0.85, mom_max=0.95, phase_1_pct=0.3, div_factor=25.):\n",
    "        super(OneCycleScheduler, self).__init__()\n",
    "        lr_min = lr_max / div_factor\n",
    "        final_lr = lr_max / (div_factor * 1e4)\n",
    "        phase_1_steps = steps * phase_1_pct\n",
    "        phase_2_steps = steps - phase_1_steps\n",
    "        \n",
    "        self.phase_1_steps = phase_1_steps\n",
    "        self.phase_2_steps = phase_2_steps\n",
    "        self.phase = 0\n",
    "        self.step = 0\n",
    "        \n",
    "        self.phases = [[CosineAnnealer(lr_min, lr_max, phase_1_steps), CosineAnnealer(mom_max, mom_min, phase_1_steps)], \n",
    "                 [CosineAnnealer(lr_max, final_lr, phase_2_steps), CosineAnnealer(mom_min, mom_max, phase_2_steps)]]\n",
    "        \n",
    "        self.lrs = []\n",
    "        self.moms = []\n",
    "\n",
    "    def on_train_begin(self, logs=None):\n",
    "        self.phase = 0\n",
    "        self.step = 0\n",
    "\n",
    "        self.set_lr(self.lr_schedule().start)\n",
    "        self.set_momentum(self.mom_schedule().start)\n",
    "        \n",
    "    def on_train_batch_begin(self, batch, logs=None):\n",
    "        self.lrs.append(self.get_lr())\n",
    "        self.moms.append(self.get_momentum())\n",
    "\n",
    "    def on_train_batch_end(self, batch, logs=None):\n",
    "        self.step += 1\n",
    "        if self.step >= self.phase_1_steps:\n",
    "            self.phase = 1\n",
    "            \n",
    "        self.set_lr(self.lr_schedule().step())\n",
    "        self.set_momentum(self.mom_schedule().step())\n",
    "        \n",
    "    def get_lr(self):\n",
    "        try:\n",
    "            return tf.keras.backend.get_value(self.model.optimizer.lr)\n",
    "        except AttributeError:\n",
    "            return None\n",
    "        \n",
    "    def get_momentum(self):\n",
    "        try:\n",
    "            return tf.keras.backend.get_value(self.model.optimizer.momentum)\n",
    "        except AttributeError:\n",
    "            return None\n",
    "        \n",
    "    def set_lr(self, lr):\n",
    "        try:\n",
    "            tf.keras.backend.set_value(self.model.optimizer.lr, lr)\n",
    "        except AttributeError:\n",
    "            pass # ignore\n",
    "        \n",
    "    def set_momentum(self, mom):\n",
    "        try:\n",
    "            tf.keras.backend.set_value(self.model.optimizer.momentum, mom)\n",
    "        except AttributeError:\n",
    "            pass # ignore\n",
    "\n",
    "    def lr_schedule(self):\n",
    "        return self.phases[self.phase][0]\n",
    "    \n",
    "    def mom_schedule(self):\n",
    "        return self.phases[self.phase][1]\n",
    "    \n",
    "    def plot(self):\n",
    "        ax = plt.subplot(1, 2, 1)\n",
    "        ax.plot(self.lrs)\n",
    "        ax.set_title('Learning Rate')\n",
    "        ax = plt.subplot(1, 2, 2)\n",
    "        ax.plot(self.moms)\n",
    "        ax.set_title('Momentum')"
   ]
  }
 ],
 "metadata": {
  "kernelspec": {
   "display_name": "Python 3",
   "language": "python",
   "name": "python3"
  },
  "language_info": {
   "codemirror_mode": {
    "name": "ipython",
    "version": 3
   },
   "file_extension": ".py",
   "mimetype": "text/x-python",
   "name": "python",
   "nbconvert_exporter": "python",
   "pygments_lexer": "ipython3",
   "version": "3.6.10"
  }
 },
 "nbformat": 4,
 "nbformat_minor": 4
}
